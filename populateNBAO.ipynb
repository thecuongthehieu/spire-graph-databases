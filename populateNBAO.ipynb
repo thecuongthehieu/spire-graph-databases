{
 "cells": [
  {
   "cell_type": "markdown",
   "id": "55042c83-97fc-489e-9fc4-6793bd017b1b",
   "metadata": {},
   "source": [
    "## Populate NBAO data\n",
    "\n",
    "Create RDF dataset for NBAO"
   ]
  },
  {
   "cell_type": "code",
   "execution_count": 1,
   "id": "6f69e20b-c1b2-432b-83db-838551bffce7",
   "metadata": {
    "ExecuteTime": {
     "end_time": "2024-12-12T11:07:37.144887500Z",
     "start_time": "2024-12-12T11:07:37.108781200Z"
    }
   },
   "outputs": [],
   "source": [
    "import pandas as pd\n",
    "import os\n",
    "from pathlib import Path\n",
    "from rdflib import Graph, Literal, RDF, URIRef, Namespace\n",
    "from rdflib.namespace import FOAF, XSD, OWL\n",
    "import datetime\n",
    "import re"
   ]
  },
  {
   "cell_type": "code",
   "execution_count": 2,
   "id": "0553f3a2-1c2b-4c6f-b029-fc7298c0fd88",
   "metadata": {
    "ExecuteTime": {
     "end_time": "2024-12-12T11:07:37.226530100Z",
     "start_time": "2024-12-12T11:07:37.152113600Z"
    }
   },
   "outputs": [],
   "source": [
    "# Dataset paths\n",
    "path = str(Path(os.path.abspath(os.getcwd())).absolute())\n",
    "firstDS = path + \"/data/first/\"\n",
    "secondDS = path + \"/data/second/\"\n",
    "thirdDS = path + \"/data/third/\"\n",
    "\n",
    "teamPath = firstDS + \"team.csv\"\n",
    "teamDetailsPath = firstDS + \"team_details.csv\"\n",
    "commonPlayerInfoPath = firstDS + \"common_player_info.csv\"\n",
    "gamePath = firstDS + \"game.csv\"\n",
    "officialsPath = firstDS + \"officials.csv\"\n",
    "\n",
    "basketballMasterPath = secondDS + \"basketball_master.csv\"\n",
    "basketballAwardsPlayersPath = secondDS + \"basketball_awards_players.csv\"\n",
    "basketballCoachesPath = secondDS + \"basketball_coaches.csv\"\n",
    "basketballAwardsCoachesPath = secondDS + \"basketball_awards_coaches.csv\"\n",
    "basketballPlayerAllstarPath = secondDS + \"basketball_player_allstar.csv\"\n",
    "\n",
    "injuryPath = thirdDS + \"injury.csv\"\n",
    "\n",
    "# Output path\n",
    "savePath =  path + \"/rdf/\""
   ]
  },
  {
   "cell_type": "code",
   "execution_count": 3,
   "id": "dbce4ba3-c1ee-430f-b7a8-6786a12b5233",
   "metadata": {
    "ExecuteTime": {
     "end_time": "2024-12-12T11:07:37.234445200Z",
     "start_time": "2024-12-12T11:07:37.185127200Z"
    }
   },
   "outputs": [],
   "source": [
    "# Define NBAO\n",
    "NBAO = Namespace(\"http://www.semanticweb.org/~gdb/ontology/spire/nbao#\")\n",
    "\n",
    "positionList = [\"Center\", \"Forward\", \"Center-Forward\", \"Forward-Center\", \"Guard\", \"Forward-Guard\", \"Guard-Forward\"]\n",
    "\n",
    "leagueList = [\"ABA\", \"NBA\"]"
   ]
  },
  {
   "cell_type": "markdown",
   "id": "f78497b2-732f-42e9-8fe0-34cc6cc2773b",
   "metadata": {},
   "source": [
    "## Team"
   ]
  },
  {
   "cell_type": "code",
   "execution_count": 4,
   "id": "9cc28970-9951-447b-ba63-bf37a2245188",
   "metadata": {
    "ExecuteTime": {
     "end_time": "2024-12-12T11:07:37.497124100Z",
     "start_time": "2024-12-12T11:07:37.212528100Z"
    }
   },
   "outputs": [
    {
     "name": "stdout",
     "output_type": "stream",
     "text": [
      "<class 'pandas.core.frame.DataFrame'>\n",
      "Index: 25 entries, 1610612737 to 1610612766\n",
      "Data columns (total 13 columns):\n",
      " #   Column              Non-Null Count  Dtype  \n",
      "---  ------              --------------  -----  \n",
      " 0   abbreviation        25 non-null     object \n",
      " 1   nickname            25 non-null     object \n",
      " 2   yearfounded         25 non-null     float64\n",
      " 3   city                25 non-null     object \n",
      " 4   arena               25 non-null     object \n",
      " 5   arenacapacity       16 non-null     float64\n",
      " 6   owner               25 non-null     object \n",
      " 7   generalmanager      25 non-null     object \n",
      " 8   headcoach           24 non-null     object \n",
      " 9   dleagueaffiliation  25 non-null     object \n",
      " 10  facebook            25 non-null     object \n",
      " 11  instagram           25 non-null     object \n",
      " 12  twitter             25 non-null     object \n",
      "dtypes: float64(2), object(11)\n",
      "memory usage: 2.7+ KB\n",
      "CPU times: total: 15.6 ms\n",
      "Wall time: 60 ms\n"
     ]
    }
   ],
   "source": [
    "%%time\n",
    "\n",
    "# Create the graph\n",
    "g = Graph()\n",
    "\n",
    "# Bind the namespaces to a prefix for more readable output\n",
    "g.bind(\"foaf\", FOAF)\n",
    "g.bind(\"xsd\", XSD)\n",
    "g.bind(\"owl\", OWL)\n",
    "g.bind(\"nbao\", NBAO)\n",
    "\n",
    "team = pd.read_csv(teamPath, sep=',', index_col='id')\n",
    "teamDetails = pd.read_csv(teamDetailsPath, sep=',', index_col='team_id')\n",
    "# team.info()\n",
    "teamDetails.info()\n",
    "\n",
    "for index, row in teamDetails.iterrows():    \n",
    "    Team = URIRef(NBAO[\"team_\" + str(index)])\n",
    "    \n",
    "    g.add((Team, RDF.type, NBAO.Team))\n",
    "    g.add((Team, NBAO['teamNickname'], Literal(row['nickname'], datatype=XSD.string)))\n",
    "    g.add((Team, NBAO['teamAbbreviation'], Literal(row['abbreviation'], datatype=XSD.string)))\n",
    "    g.add((Team, NBAO['teamCity'], Literal(row['city'], datatype=XSD.string)))\n",
    "    g.add((Team, NBAO['yearFounded'], Literal(int(row['yearfounded']), datatype=XSD.gYear)))\n",
    "    g.add((Team, NBAO['teamArena'], Literal(row['arena'], datatype=XSD.string)))\n",
    "\n",
    "    g.add((Team, NBAO['teamName'], Literal(team.loc[index, 'full_name'], datatype=XSD.string)))\n",
    "    g.add((Team, NBAO['teamState'], Literal(team.loc[index, 'state'], datatype=XSD.string)))\n",
    "\n",
    "\n",
    "# Write all the data in the Turtle format into file\n",
    "with open(savePath + 'team.ttl', 'w') as file:\n",
    "    file.write(g.serialize(format='turtle'))"
   ]
  },
  {
   "cell_type": "markdown",
   "id": "51394658-7ef5-4dac-b4a1-3fbef96dc6dd",
   "metadata": {},
   "source": [
    "## Player - Draft"
   ]
  },
  {
   "cell_type": "code",
   "execution_count": 5,
   "id": "68dbc971-3a65-40e3-b9d8-32bcfce6f607",
   "metadata": {
    "ExecuteTime": {
     "end_time": "2024-12-12T11:07:43.750413400Z",
     "start_time": "2024-12-12T11:07:37.491837700Z"
    }
   },
   "outputs": [
    {
     "name": "stdout",
     "output_type": "stream",
     "text": [
      "CPU times: total: 3.41 s\n",
      "Wall time: 3.58 s\n"
     ]
    }
   ],
   "source": [
    "%%time\n",
    "\n",
    "# Create the graph\n",
    "g = Graph()\n",
    "\n",
    "# Bind the namespaces to a prefix for more readable output\n",
    "g.bind(\"foaf\", FOAF)\n",
    "g.bind(\"xsd\", XSD)\n",
    "g.bind(\"owl\", OWL)\n",
    "g.bind(\"nbao\", NBAO)\n",
    "\n",
    "commonPlayerInfo = pd.read_csv(commonPlayerInfoPath, sep=',', index_col='person_id')\n",
    "# commonPlayerInfo.info()\n",
    "\n",
    "for index, row in commonPlayerInfo.iterrows():\n",
    "    Player = URIRef(NBAO[\"player_\" + str(index)])\n",
    "\n",
    "    g.add((Player, RDF.type, NBAO.Player))\n",
    "    g.add((Player, FOAF['name'], Literal(row['display_first_last'], datatype=XSD.string)))\n",
    "\n",
    "    # Handle empty cell\n",
    "    if pd.notnull(row['from_year']):\n",
    "        g.add((Player, NBAO['careerStartYear'], Literal(int(row['from_year']), datatype=XSD.gYear)))\n",
    "    if pd.notnull(row['to_year']):\n",
    "        g.add((Player, NBAO['careerEndYear'], Literal(int(row['to_year']), datatype=XSD.gYear)))\n",
    "\n",
    "    # Several jersey numbers\n",
    "    if pd.notnull(row['jersey']):\n",
    "        jerseyNums = re.split(' |-', row['jersey'])\n",
    "        for jerseyNum in jerseyNums:\n",
    "            if jerseyNum != '':\n",
    "                g.add((Player, NBAO['jerseyNum'], Literal(int(jerseyNum), datatype=XSD.int)))\n",
    "\n",
    "    # Parse date\n",
    "    g.add((Player, NBAO['birthDate'], Literal(datetime.datetime.strptime(row['birthdate'], '%Y-%m-%d %H:%M:%S').date(), datatype=XSD.date)))\n",
    "\n",
    "    # Positions\n",
    "    if pd.notnull(row['position']):\n",
    "        if row['position'] in positionList:\n",
    "            Position = URIRef(NBAO[row['position']])\n",
    "            g.add((Player, NBAO['hasPosition'], Position))\n",
    "\n",
    "    # Main team\n",
    "    if row['team_id'] in teamDetails.index:\n",
    "        Team = URIRef(NBAO[\"team_\" + str(row['team_id'])])\n",
    "        g.add((Player, NBAO['hasMainTeam'], Team))\n",
    "\n",
    "    # Player - Draft\n",
    "    if row['draft_year'] != \"Undrafted\" and row['draft_year'] != \"\":\n",
    "        # Draft\n",
    "        Draft = URIRef(NBAO[\"draft_\" + row['draft_year']])\n",
    "        g.add((Draft, RDF.type, NBAO.Draft))\n",
    "        \n",
    "        g.add((Draft, NBAO[\"draftYear\"], Literal(int(row['draft_year']), datatype=XSD.gYear)))\n",
    "\n",
    "        if pd.notnull(row['draft_round']) and row['draft_round'] != \"Undrafted\" and pd.notnull(row['draft_number']) and row['draft_number'] != \"Undrafted\":\n",
    "            # Draftranks - Draft\n",
    "            DraftRanks = URIRef(NBAO[\"draftranks_\" + \"year\" + row['draft_year'] + \"_round\" + row['draft_round'] + \"_number\" + row['draft_number']])\n",
    "            g.add((DraftRanks, RDF.type, NBAO.DraftRanks))\n",
    "            \n",
    "            g.add((DraftRanks, NBAO['draftRoundNumber'], Literal(row['draft_round'], datatype=XSD.int)))\n",
    "            g.add((DraftRanks, NBAO['draftOverallPick'], Literal(row['draft_number'], datatype=XSD.int)))\n",
    "            g.add((DraftRanks, NBAO['ofDraft'], Draft))\n",
    "\n",
    "            # Player - Draftranks\n",
    "            g.add((Player, NBAO['isDraftedAs'], DraftRanks))\n",
    "\n",
    "\n",
    "# Write all the data in the Turtle format into file\n",
    "with open(savePath + 'player-draft.ttl', 'w') as file:\n",
    "    file.write(g.serialize(format='turtle'))"
   ]
  },
  {
   "cell_type": "markdown",
   "id": "32aadbe3-be47-44b1-bc21-e5bf0d8324da",
   "metadata": {},
   "source": [
    "## InjuryStat - Team - Player"
   ]
  },
  {
   "cell_type": "code",
   "execution_count": 6,
   "id": "8474b4a4-e0e1-49bb-845b-8ad7f97e17b4",
   "metadata": {
    "ExecuteTime": {
     "end_time": "2024-12-12T11:08:26.432169800Z",
     "start_time": "2024-12-12T11:07:43.753939900Z"
    }
   },
   "outputs": [
    {
     "name": "stdout",
     "output_type": "stream",
     "text": [
      "CPU times: total: 42.4 s\n",
      "Wall time: 45.1 s\n"
     ]
    }
   ],
   "source": [
    "%%time\n",
    "\n",
    "# Create the graph\n",
    "g = Graph()\n",
    "\n",
    "# Bind the namespaces to a prefix for more readable output\n",
    "g.bind(\"foaf\", FOAF)\n",
    "g.bind(\"xsd\", XSD)\n",
    "g.bind(\"owl\", OWL)\n",
    "g.bind(\"nbao\", NBAO)\n",
    "\n",
    "injury = pd.read_csv(injuryPath, sep=',', index_col=0)\n",
    "# injury.info()\n",
    "\n",
    "for index, row in injury.iterrows():\n",
    "    # Check if team exists\n",
    "    if (teamDetails[\"nickname\"] == row[\"Team\"]).any() == True :\n",
    "        InjuryStat = URIRef(NBAO[\"injurystat_\" + str(index)])\n",
    "\n",
    "        hasMatchedPlayers = False\n",
    "        \n",
    "        # InjuryStat - Player\n",
    "        acquiredPlayers = re.split('/', str(row['Acquired']))\n",
    "        for acquiredPlayer in acquiredPlayers:\n",
    "            acquiredPlayer = acquiredPlayer.strip()\n",
    "            if (commonPlayerInfo[\"display_first_last\"] == acquiredPlayer).any() == True :\n",
    "                hasMatchedPlayers = True\n",
    "                Player = URIRef(NBAO[\"player_\" + str(commonPlayerInfo[commonPlayerInfo[\"display_first_last\"] == acquiredPlayer].index[0])])\n",
    "                g.add((InjuryStat, NBAO['withAcquiredPlayer'], Player))\n",
    "        \n",
    "        relinquishedPlayers = re.split('/', str(row['Relinquished']))\n",
    "        for relinquishedPlayer in acquiredPlayers:\n",
    "            relinquishedPlayer = relinquishedPlayer.strip()\n",
    "            if (commonPlayerInfo[\"display_first_last\"] == relinquishedPlayer).any() == True :\n",
    "                hasMatchedPlayers = True\n",
    "                Player = URIRef(NBAO[\"player_\" + str(commonPlayerInfo[commonPlayerInfo[\"display_first_last\"] == relinquishedPlayer].index[0])])\n",
    "                g.add((InjuryStat, NBAO['withRelinquishedPlayer'], Player))\n",
    "\n",
    "        if hasMatchedPlayers:\n",
    "            g.add((InjuryStat, RDF.type, NBAO.InjuryStat))\n",
    "            \n",
    "            g.add((InjuryStat, NBAO['dateOfOccurence'], Literal(datetime.datetime.strptime(row['Date'], '%Y-%m-%d').date(), datatype=XSD.date)))\n",
    "            g.add((InjuryStat, NBAO['injuryNote'], Literal(row['Notes'], datatype=XSD.string)))\n",
    "\n",
    "            # InjuryStat - Team\n",
    "            Team = URIRef(NBAO[\"team_\" + str(teamDetails[teamDetails[\"nickname\"] == row[\"Team\"]].index[0])])\n",
    "            g.add((InjuryStat, NBAO['occurredInTeam'], Team))\n",
    "                \n",
    "# Write all the data in the Turtle format into file\n",
    "with open(savePath + 'injurystat-team-player.ttl', 'w') as file:\n",
    "    file.write(g.serialize(format='turtle'))"
   ]
  },
  {
   "cell_type": "markdown",
   "id": "64d2b717-f70f-4434-a651-db16128a36b2",
   "metadata": {},
   "source": [
    "## Player - AllStarGame"
   ]
  },
  {
   "cell_type": "code",
   "execution_count": 7,
   "id": "a6dab315-b578-4809-939e-a159776ae5a1",
   "metadata": {
    "ExecuteTime": {
     "end_time": "2024-12-12T11:08:27.914866300Z",
     "start_time": "2024-12-12T11:08:26.435291600Z"
    }
   },
   "outputs": [
    {
     "name": "stdout",
     "output_type": "stream",
     "text": [
      "CPU times: total: 1.33 s\n",
      "Wall time: 1.35 s\n"
     ]
    }
   ],
   "source": [
    "%%time\n",
    "\n",
    "# Create the graph\n",
    "g = Graph()\n",
    "\n",
    "# Bind the namespaces to a prefix for more readable output\n",
    "g.bind(\"foaf\", FOAF)\n",
    "g.bind(\"xsd\", XSD)\n",
    "g.bind(\"owl\", OWL)\n",
    "g.bind(\"nbao\", NBAO)\n",
    "\n",
    "basketballPlayerAllstar = pd.read_csv(basketballPlayerAllstarPath, sep=',', index_col=False)\n",
    "# basketballPlayerAllstar.info()\n",
    "\n",
    "for _, row in basketballPlayerAllstar.iterrows():\n",
    "    AllStarGame = URIRef(NBAO[\"allstargame_\" + \"season\" + str(row['season_id'])])\n",
    "    g.add((AllStarGame, RDF.type, NBAO.AllStarGame))\n",
    "    \n",
    "    g.add((AllStarGame, NBAO['ofSeason'], Literal(int(row['season_id']), datatype=XSD.gYear)))\n",
    "    \n",
    "    if row['league_id'] in leagueList:\n",
    "        League = URIRef(NBAO[row['league_id']])\n",
    "        g.add((AllStarGame, NBAO['ofLeague'], League))\n",
    "\n",
    "    participatedPlayerName = str(row['first_name']) + \" \" + str(row['last_name'])\n",
    "    if (commonPlayerInfo[\"display_first_last\"] == participatedPlayerName).any() == True :\n",
    "        Player = URIRef(NBAO[\"player_\" + str(commonPlayerInfo[commonPlayerInfo[\"display_first_last\"] == participatedPlayerName].index[0])])\n",
    "        g.add((Player, NBAO['participatedInAllStarGame'], AllStarGame))\n",
    "\n",
    "# Write all the data in the Turtle format into file\n",
    "with open(savePath + 'player-allstargame.ttl', 'w') as file:\n",
    "    file.write(g.serialize(format='turtle'))"
   ]
  },
  {
   "cell_type": "markdown",
   "id": "cc562866-56da-4a12-a4a6-a2803717f9fa",
   "metadata": {},
   "source": [
    "## Coach - CoachStat - CoachAward"
   ]
  },
  {
   "cell_type": "code",
   "execution_count": 8,
   "id": "273d4077-1c54-4b7a-83fc-1646b659ee77",
   "metadata": {
    "ExecuteTime": {
     "end_time": "2024-12-12T11:08:29.083506200Z",
     "start_time": "2024-12-12T11:08:27.918863800Z"
    }
   },
   "outputs": [
    {
     "name": "stdout",
     "output_type": "stream",
     "text": [
      "CPU times: total: 1 s\n",
      "Wall time: 1.03 s\n"
     ]
    }
   ],
   "source": [
    "%%time\n",
    "\n",
    "# Create the graph\n",
    "g = Graph()\n",
    "\n",
    "# Bind the namespaces to a prefix for more readable output\n",
    "g.bind(\"foaf\", FOAF)\n",
    "g.bind(\"xsd\", XSD)\n",
    "g.bind(\"owl\", OWL)\n",
    "g.bind(\"nbao\", NBAO)\n",
    "\n",
    "basketballMaster = pd.read_csv(basketballMasterPath, sep=',', index_col='bioID')\n",
    "basketballCoaches = pd.read_csv(basketballCoachesPath, sep=',', index_col=False)\n",
    "basketballAwardsCoaches = pd.read_csv(basketballAwardsCoachesPath, sep=',', index_col=False)\n",
    "\n",
    "# basketballMaster.info()\n",
    "# basketballCoaches.info()\n",
    "# basketballAwardsCoaches.info()\n",
    "\n",
    "\n",
    "for index, row in basketballCoaches.iterrows(): \n",
    "    # Consider only ABA and NBA and existed teams\n",
    "    if (row['lgID'] in leagueList) and ((teamDetails[\"abbreviation\"] == row[\"tmID\"]).any() == True):\n",
    "        coachID = row['coachID']\n",
    "\n",
    "        # Validate the Coach\n",
    "        if (coachID in basketballMaster.index) and basketballMaster.loc[coachID, 'birthDate'] != \"0000-00-00\" :\n",
    "            coachName = basketballMaster.loc[coachID, 'firstName'] + \" \" + basketballMaster.loc[coachID, 'lastName']\n",
    "    \n",
    "            # URI for the Coach\n",
    "            Coach = URIRef(NBAO[\"coach_\" + str(coachID)])\n",
    "    \n",
    "            if (commonPlayerInfo[\"display_first_last\"] == coachName).any() == True :\n",
    "                # If Coach is also Player, use the URI of the available Player\n",
    "                Coach = URIRef(NBAO[\"player_\" + str(commonPlayerInfo[commonPlayerInfo[\"display_first_last\"] == coachName].index[0])])\n",
    "            else:\n",
    "                # new URI for Coach\n",
    "                g.add((Coach, FOAF['name'], Literal(coachName, datatype=XSD.string)))\n",
    "                g.add((Coach, NBAO['birthDate'], Literal(datetime.datetime.strptime(basketballMaster.loc[coachID, 'birthDate'], '%Y-%m-%d').date(), datatype=XSD.date)))\n",
    "    \n",
    "            # Add Coach to graph\n",
    "            g.add((Coach, RDF.type, NBAO.Coach))\n",
    "    \n",
    "            # CoachStat\n",
    "            CoachStat = URIRef(NBAO[\"coachstat_\" + str(index)])\n",
    "            g.add((CoachStat, RDF.type, NBAO.CoachStat))\n",
    "            g.add((CoachStat, NBAO['lostNum'], Literal(int(row['lost']), datatype=XSD.int)))\n",
    "            g.add((CoachStat, NBAO['wonNum'], Literal(int(row['won']), datatype=XSD.int)))\n",
    "            g.add((CoachStat, NBAO['coachYear'], Literal(int(row['year']), datatype=XSD.gYear)))\n",
    "            \n",
    "            Team = URIRef(NBAO[\"team_\" + str(teamDetails[teamDetails[\"abbreviation\"] == row[\"tmID\"]].index[0])])\n",
    "            g.add((CoachStat, NBAO['withCoachedTeam'], Team))\n",
    "    \n",
    "            g.add((Coach, NBAO['hasCoachStat'], CoachStat))\n",
    "\n",
    "\n",
    "for index, row in basketballAwardsCoaches.iterrows():\n",
    "    if (row['lgID'] in leagueList):\n",
    "        coachID = row['coachID']\n",
    "\n",
    "        # Validate the Coach\n",
    "        if (coachID in basketballMaster.index) and basketballMaster.loc[coachID, 'birthDate'] != \"0000-00-00\" :\n",
    "            coachName = basketballMaster.loc[coachID, 'firstName'] + \" \" + basketballMaster.loc[coachID, 'lastName']\n",
    "    \n",
    "            # URI for the Coach\n",
    "            Coach = URIRef(NBAO[\"coach_\" + str(coachID)])\n",
    "    \n",
    "            if (commonPlayerInfo[\"display_first_last\"] == coachName).any() == True :\n",
    "                # If Coach is also Player, use the URI of the available Player\n",
    "                Coach = URIRef(NBAO[\"player_\" + str(commonPlayerInfo[commonPlayerInfo[\"display_first_last\"] == coachName].index[0])])\n",
    "            else:\n",
    "                # new URI for Coach\n",
    "                g.add((Coach, FOAF['name'], Literal(coachName, datatype=XSD.string)))\n",
    "                g.add((Coach, NBAO['birthDate'], Literal(datetime.datetime.strptime(basketballMaster.loc[coachID, 'birthDate'], '%Y-%m-%d').date(), datatype=XSD.date)))\n",
    "    \n",
    "            # Add Coach to graph\n",
    "            g.add((Coach, RDF.type, NBAO.Coach))\n",
    "        \n",
    "            awardTitle = row['award']\n",
    "            tokens = re.split(' ', awardTitle)\n",
    "            awardId = \"award_\" + \"year\" + str(row['year']) + \"_title\"\n",
    "            for token in tokens:\n",
    "                awardId = awardId + token.strip()\n",
    "\n",
    "            Award = URIRef(NBAO[awardId])\n",
    "            g.add((Award, RDF.type, NBAO.Award))\n",
    "            g.add((Award, NBAO['awardYear'], Literal(int(row['year']), datatype=XSD.gYear)))\n",
    "            g.add((Award, NBAO['awardTitle'], Literal(awardTitle, datatype=XSD.string)))\n",
    "\n",
    "            League = URIRef(NBAO[row['lgID']])\n",
    "            g.add((Award, NBAO['ofLeague'], League))\n",
    "\n",
    "            g.add((Award, NBAO['isAwardedTo'], Coach))            \n",
    "            \n",
    "\n",
    "# Write all the data in the Turtle format into file\n",
    "with open(savePath + 'coach-coachstat-coachaward.ttl', 'w') as file:\n",
    "    file.write(g.serialize(format='turtle'))\n",
    "\n"
   ]
  },
  {
   "cell_type": "markdown",
   "id": "7df81331-1734-436e-be82-f76bb2c0365e",
   "metadata": {},
   "source": [
    "## Player - PlayerAward"
   ]
  },
  {
   "cell_type": "code",
   "execution_count": 9,
   "id": "a8528e4e-4d04-437b-b968-c541626ca152",
   "metadata": {
    "ExecuteTime": {
     "end_time": "2024-12-12T11:08:29.616895200Z",
     "start_time": "2024-12-12T11:08:29.075789600Z"
    }
   },
   "outputs": [
    {
     "name": "stdout",
     "output_type": "stream",
     "text": [
      "CPU times: total: 1.31 s\n",
      "Wall time: 1.32 s\n"
     ]
    }
   ],
   "source": [
    "%%time\n",
    "\n",
    "# Create the graph\n",
    "g = Graph()\n",
    "\n",
    "# Bind the namespaces to a prefix for more readable output\n",
    "g.bind(\"foaf\", FOAF)\n",
    "g.bind(\"xsd\", XSD)\n",
    "g.bind(\"owl\", OWL)\n",
    "g.bind(\"nbao\", NBAO)\n",
    "\n",
    "\n",
    "basketballAwardsPlayers = pd.read_csv(basketballAwardsPlayersPath, sep=',', index_col=False)\n",
    "\n",
    "\n",
    "for index, row in basketballAwardsPlayers.iterrows():\n",
    "    if (row['lgID'] in leagueList):\n",
    "        playerID = row['playerID']\n",
    "\n",
    "        # Validate the Player\n",
    "        if (playerID in basketballMaster.index) and basketballMaster.loc[playerID, 'birthDate'] != \"0000-00-00\" :\n",
    "            playerName = basketballMaster.loc[playerID, 'firstName'] + \" \" + basketballMaster.loc[playerID, 'lastName']\n",
    "\n",
    "            if (commonPlayerInfo[\"display_first_last\"] == playerName).any() == True :\n",
    "                # If the Player exists in the first dataset\n",
    "                Player = URIRef(NBAO[\"player_\" + str(commonPlayerInfo[commonPlayerInfo[\"display_first_last\"] == playerName].index[0])])\n",
    "        \n",
    "                awardTitle = row['award']\n",
    "                tokens = re.split(' |-', awardTitle)\n",
    "                awardId = \"award_\" + \"year\" + str(row['year']) + \"_title\"\n",
    "                for token in tokens:\n",
    "                    awardId = awardId + token.strip()\n",
    "        \n",
    "                Award = URIRef(NBAO[awardId])\n",
    "                g.add((Award, RDF.type, NBAO.Award))\n",
    "                g.add((Award, NBAO['awardYear'], Literal(int(row['year']), datatype=XSD.gYear)))\n",
    "                g.add((Award, NBAO['awardTitle'], Literal(awardTitle, datatype=XSD.string)))\n",
    "        \n",
    "                League = URIRef(NBAO[row['lgID']])\n",
    "                g.add((Award, NBAO['ofLeague'], League))\n",
    "        \n",
    "                g.add((Award, NBAO['isAwardedTo'], Player))\n",
    "\n",
    "# Write all the data in the Turtle format into file\n",
    "with open(savePath + 'player-award.ttl', 'w') as file:\n",
    "    file.write(g.serialize(format='turtle'))"
   ]
  },
  {
   "cell_type": "markdown",
   "id": "152f7413",
   "metadata": {},
   "source": [
    "## Game"
   ]
  },
  {
   "cell_type": "code",
   "execution_count": 10,
   "id": "bb88be2f",
   "metadata": {},
   "outputs": [],
   "source": [
    "# Create the graph\n",
    "g = Graph()\n",
    "\n",
    "# Bind the namespaces to a prefix for more readable output\n",
    "g.bind(\"foaf\", FOAF)\n",
    "g.bind(\"xsd\", XSD)\n",
    "g.bind(\"owl\", OWL)\n",
    "g.bind(\"nbao\", NBAO)\n",
    "\n",
    "games = pd.read_csv(gamePath, sep=',', index_col=False)\n",
    "\n",
    "# games.info()\n",
    "\n",
    "for index, row in games.iterrows():\n",
    "        gameID = row['game_id']\n",
    "        Game = URIRef(NBAO[\"game_\"+str(gameID)])\n",
    "        homeTeamIndex = row['team_id_home']\n",
    "        awayTeamIndex = row['team_id_away']\n",
    "        pointsHome = int(row['pts_home'])\n",
    "        pointsAway = int(row['pts_away'])\n",
    "\n",
    "        g.add((Game,RDF.type,NBAO.Game))\n",
    "        g.add((Game,NBAO['hasHomeTeam'],NBAO[\"team_\" + str(homeTeamIndex)]))\n",
    "        g.add((Game,NBAO['hasAwayTeam'],NBAO[\"team_\" + str(awayTeamIndex)]))\n",
    "\n",
    "        g.add((Game,NBAO['pointsAway'],Literal(pointsAway, datatype=XSD.int)))               \n",
    "        g.add((Game,NBAO['pointsHome'],Literal(pointsHome, datatype=XSD.int)))               \n",
    "        \n",
    "with open(savePath + 'games.ttl', 'w') as file:\n",
    "    file.write(g.serialize(format='turtle'))\n"
   ]
  },
  {
   "cell_type": "markdown",
   "id": "2902474f-e657-4f11-9392-9c824b492dbb",
   "metadata": {},
   "source": [
    "## Official"
   ]
  },
  {
   "cell_type": "code",
   "execution_count": 11,
   "id": "c8d41659-c5f2-455a-a2c6-2b73ed575992",
   "metadata": {
    "ExecuteTime": {
     "end_time": "2024-12-12T11:08:29.628164300Z",
     "start_time": "2024-12-12T11:08:29.619355900Z"
    }
   },
   "outputs": [],
   "source": [
    "# Create the graph\n",
    "g = Graph()\n",
    "\n",
    "# Bind the namespaces to a prefix for more readable output\n",
    "g.bind(\"foaf\", FOAF)\n",
    "g.bind(\"xsd\", XSD)\n",
    "g.bind(\"owl\", OWL)\n",
    "g.bind(\"nbao\", NBAO)\n",
    "\n",
    "officials = pd.read_csv(officialsPath, sep=',', index_col=False)\n",
    "# Done for checking if some official had more than 1 jersey num in his career\n",
    "officials_ids = {}\n",
    "for index, row in officials.iterrows():\n",
    "        officialID = row['official_id']\n",
    "        gameID = row['game_id']\n",
    "        jerseyNum = row['jersey_num']\n",
    "        Official = URIRef(NBAO[\"official_\"+str(officialID)])\n",
    "        if officialID not in officials_ids:\n",
    "            officials_ids[officialID] = []\n",
    "            official_first_name = row['first_name']\n",
    "            official_last_name = row['last_name']\n",
    "            g.add((Official,RDF.type,NBAO.Official))\n",
    "            g.add((Official,FOAF['name'],Literal(official_first_name + \" \" + official_last_name, datatype=XSD.string)))\n",
    "        if jerseyNum not in officials_ids[officialID]:\n",
    "                officials_ids[officialID].append(jerseyNum)\n",
    "                g.add((Official,NBAO['jerseyNum'],Literal(jerseyNum, datatype=XSD.int)))                      \n",
    "        g.add((Official,NBAO['handledGame'],NBAO['game_'+str(gameID)]))\n",
    "with open(savePath + 'officials.ttl', 'w') as file:\n",
    "    file.write(g.serialize(format='turtle'))\n"
   ]
  },
  {
   "cell_type": "code",
   "execution_count": null,
   "id": "05f432a6-1f9f-4b72-a012-efd197247c5d",
   "metadata": {},
   "outputs": [],
   "source": []
  }
 ],
 "metadata": {
  "kernelspec": {
   "display_name": "Python 3",
   "language": "python",
   "name": "python3"
  },
  "language_info": {
   "codemirror_mode": {
    "name": "ipython",
    "version": 3
   },
   "file_extension": ".py",
   "mimetype": "text/x-python",
   "name": "python",
   "nbconvert_exporter": "python",
   "pygments_lexer": "ipython3",
   "version": "3.11.1"
  }
 },
 "nbformat": 4,
 "nbformat_minor": 5
}

{
 "cells": [
  {
   "cell_type": "code",
   "execution_count": null,
   "metadata": {},
   "outputs": [],
   "source": [
    "import pandas as pd\n",
    "import matplotlib.pyplot as plt\n",
    "\n",
    "# Read the CSV file\n",
    "data = pd.read_csv('query-result.csv')\n",
    "\n",
    "# Ensure the data is sorted by year\n",
    "data = data.sort_values('years')\n",
    "\n",
    "# Plot the histogram\n",
    "plt.figure(figsize=(10, 6))\n",
    "plt.bar(data['years'], data['p_retired'], color='skyblue', edgecolor='black')\n",
    "\n",
    "# Customize the plot\n",
    "plt.title('Percentage of Retired Players Per Year')\n",
    "plt.xlabel('Year')\n",
    "plt.ylabel('Percentage of Retired Players (%)')\n",
    "plt.xticks(rotation=45)  # Rotate x-axis labels if needed\n",
    "plt.tight_layout()       # Adjust layout to prevent clipping of labels\n",
    "\n",
    "# Display the plot\n",
    "plt.show()\n",
    "plt.savefig('retired_players_histogram.png')"
   ]
  }
 ],
 "metadata": {
  "language_info": {
   "name": "python"
  }
 },
 "nbformat": 4,
 "nbformat_minor": 2
}
